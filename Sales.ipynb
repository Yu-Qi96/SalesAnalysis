{
 "cells": [
  {
   "cell_type": "code",
   "execution_count": 388,
   "metadata": {},
   "outputs": [],
   "source": [
    "import pandas as pd\n",
    "from os import listdir\n",
    "from os.path import isfile, join"
   ]
  },
  {
   "cell_type": "markdown",
   "metadata": {},
   "source": [
    "#### Mergering 12 months of sales data into a single one####"
   ]
  },
  {
   "cell_type": "code",
   "execution_count": 413,
   "metadata": {},
   "outputs": [],
   "source": [
    "file_path = './Sales_Data'\n",
    "onlyfiles = [f for f in listdir(file_path) if isfile(join(file_path, f))]"
   ]
  },
  {
   "cell_type": "code",
   "execution_count": 414,
   "metadata": {},
   "outputs": [],
   "source": [
    "df = pd.DataFrame()\n",
    "for i in onlyfiles:\n",
    "    df = pd.concat([pd.read_csv(\"./Sales_Data/\" + i), df])\n",
    "df.to_csv('all_data.csv', index=False)"
   ]
  },
  {
   "cell_type": "markdown",
   "metadata": {},
   "source": [
    "### Read in from new created all_data file###"
   ]
  },
  {
   "cell_type": "code",
   "execution_count": 216,
   "metadata": {},
   "outputs": [
    {
     "data": {
      "text/html": [
       "<div>\n",
       "<style scoped>\n",
       "    .dataframe tbody tr th:only-of-type {\n",
       "        vertical-align: middle;\n",
       "    }\n",
       "\n",
       "    .dataframe tbody tr th {\n",
       "        vertical-align: top;\n",
       "    }\n",
       "\n",
       "    .dataframe thead th {\n",
       "        text-align: right;\n",
       "    }\n",
       "</style>\n",
       "<table border=\"1\" class=\"dataframe\">\n",
       "  <thead>\n",
       "    <tr style=\"text-align: right;\">\n",
       "      <th></th>\n",
       "      <th>Order ID</th>\n",
       "      <th>Product</th>\n",
       "      <th>Quantity Ordered</th>\n",
       "      <th>Price Each</th>\n",
       "      <th>Order Date</th>\n",
       "      <th>Purchase Address</th>\n",
       "    </tr>\n",
       "  </thead>\n",
       "  <tbody>\n",
       "    <tr>\n",
       "      <th>0</th>\n",
       "      <td>209921</td>\n",
       "      <td>USB-C Charging Cable</td>\n",
       "      <td>1</td>\n",
       "      <td>11.95</td>\n",
       "      <td>06/23/19 19:34</td>\n",
       "      <td>950 Walnut St, Portland, ME 04101</td>\n",
       "    </tr>\n",
       "    <tr>\n",
       "      <th>1</th>\n",
       "      <td>209922</td>\n",
       "      <td>Macbook Pro Laptop</td>\n",
       "      <td>1</td>\n",
       "      <td>1700.0</td>\n",
       "      <td>06/30/19 10:05</td>\n",
       "      <td>80 4th St, San Francisco, CA 94016</td>\n",
       "    </tr>\n",
       "    <tr>\n",
       "      <th>2</th>\n",
       "      <td>209923</td>\n",
       "      <td>ThinkPad Laptop</td>\n",
       "      <td>1</td>\n",
       "      <td>999.99</td>\n",
       "      <td>06/24/19 20:18</td>\n",
       "      <td>402 Jackson St, Los Angeles, CA 90001</td>\n",
       "    </tr>\n",
       "    <tr>\n",
       "      <th>3</th>\n",
       "      <td>209924</td>\n",
       "      <td>27in FHD Monitor</td>\n",
       "      <td>1</td>\n",
       "      <td>149.99</td>\n",
       "      <td>06/05/19 10:21</td>\n",
       "      <td>560 10th St, Seattle, WA 98101</td>\n",
       "    </tr>\n",
       "    <tr>\n",
       "      <th>4</th>\n",
       "      <td>209925</td>\n",
       "      <td>Bose SoundSport Headphones</td>\n",
       "      <td>1</td>\n",
       "      <td>99.99</td>\n",
       "      <td>06/25/19 18:58</td>\n",
       "      <td>545 2nd St, San Francisco, CA 94016</td>\n",
       "    </tr>\n",
       "  </tbody>\n",
       "</table>\n",
       "</div>"
      ],
      "text/plain": [
       "  Order ID                     Product Quantity Ordered Price Each  \\\n",
       "0   209921        USB-C Charging Cable                1      11.95   \n",
       "1   209922          Macbook Pro Laptop                1     1700.0   \n",
       "2   209923             ThinkPad Laptop                1     999.99   \n",
       "3   209924            27in FHD Monitor                1     149.99   \n",
       "4   209925  Bose SoundSport Headphones                1      99.99   \n",
       "\n",
       "       Order Date                       Purchase Address  \n",
       "0  06/23/19 19:34      950 Walnut St, Portland, ME 04101  \n",
       "1  06/30/19 10:05     80 4th St, San Francisco, CA 94016  \n",
       "2  06/24/19 20:18  402 Jackson St, Los Angeles, CA 90001  \n",
       "3  06/05/19 10:21         560 10th St, Seattle, WA 98101  \n",
       "4  06/25/19 18:58    545 2nd St, San Francisco, CA 94016  "
      ]
     },
     "execution_count": 216,
     "metadata": {},
     "output_type": "execute_result"
    }
   ],
   "source": [
    "all_data = pd.read_csv('all_data.csv')\n",
    "all_data.head()"
   ]
  },
  {
   "cell_type": "markdown",
   "metadata": {},
   "source": [
    "### Q1: What's the best month for sales? How much was earned on that month? ###"
   ]
  },
  {
   "cell_type": "code",
   "execution_count": 217,
   "metadata": {},
   "outputs": [],
   "source": [
    "# Extract month data from order date\n",
    "# all_data['Month'] = all_data['Order Date'].str.split('/', expand=True)[0]\n",
    "# Alternative of that\n",
    "all_data['Month'] = all_data['Order Date'].str[0:2]\n",
    "na = all_data[all_data.isna().any(axis=1)]\n",
    "\n",
    "all_data.dropna(how='all', inplace=True)\n",
    "all_data = all_data[all_data['Month'].str[0:2] != 'Or']"
   ]
  },
  {
   "cell_type": "code",
   "execution_count": 218,
   "metadata": {},
   "outputs": [
    {
     "data": {
      "text/html": [
       "<div>\n",
       "<style scoped>\n",
       "    .dataframe tbody tr th:only-of-type {\n",
       "        vertical-align: middle;\n",
       "    }\n",
       "\n",
       "    .dataframe tbody tr th {\n",
       "        vertical-align: top;\n",
       "    }\n",
       "\n",
       "    .dataframe thead th {\n",
       "        text-align: right;\n",
       "    }\n",
       "</style>\n",
       "<table border=\"1\" class=\"dataframe\">\n",
       "  <thead>\n",
       "    <tr style=\"text-align: right;\">\n",
       "      <th></th>\n",
       "      <th>Quantity Ordered</th>\n",
       "      <th>Price Each</th>\n",
       "      <th>Total</th>\n",
       "    </tr>\n",
       "    <tr>\n",
       "      <th>Month</th>\n",
       "      <th></th>\n",
       "      <th></th>\n",
       "      <th></th>\n",
       "    </tr>\n",
       "  </thead>\n",
       "  <tbody>\n",
       "    <tr>\n",
       "      <th>12</th>\n",
       "      <td>28114.000</td>\n",
       "      <td>4588415.410</td>\n",
       "      <td>4613443.340</td>\n",
       "    </tr>\n",
       "    <tr>\n",
       "      <th>10</th>\n",
       "      <td>22703.000</td>\n",
       "      <td>3715554.830</td>\n",
       "      <td>3736726.880</td>\n",
       "    </tr>\n",
       "    <tr>\n",
       "      <th>4</th>\n",
       "      <td>20558.000</td>\n",
       "      <td>3367671.020</td>\n",
       "      <td>3390670.240</td>\n",
       "    </tr>\n",
       "    <tr>\n",
       "      <th>11</th>\n",
       "      <td>19798.000</td>\n",
       "      <td>3180600.680</td>\n",
       "      <td>3199603.200</td>\n",
       "    </tr>\n",
       "    <tr>\n",
       "      <th>5</th>\n",
       "      <td>18667.000</td>\n",
       "      <td>3135125.130</td>\n",
       "      <td>3152606.750</td>\n",
       "    </tr>\n",
       "    <tr>\n",
       "      <th>3</th>\n",
       "      <td>17005.000</td>\n",
       "      <td>2791207.830</td>\n",
       "      <td>2807100.380</td>\n",
       "    </tr>\n",
       "    <tr>\n",
       "      <th>7</th>\n",
       "      <td>16072.000</td>\n",
       "      <td>2632539.560</td>\n",
       "      <td>2647775.760</td>\n",
       "    </tr>\n",
       "    <tr>\n",
       "      <th>6</th>\n",
       "      <td>15253.000</td>\n",
       "      <td>2562025.610</td>\n",
       "      <td>2577802.260</td>\n",
       "    </tr>\n",
       "    <tr>\n",
       "      <th>8</th>\n",
       "      <td>13448.000</td>\n",
       "      <td>2230345.420</td>\n",
       "      <td>2244467.880</td>\n",
       "    </tr>\n",
       "    <tr>\n",
       "      <th>2</th>\n",
       "      <td>13449.000</td>\n",
       "      <td>2188884.720</td>\n",
       "      <td>2202022.420</td>\n",
       "    </tr>\n",
       "    <tr>\n",
       "      <th>9</th>\n",
       "      <td>13109.000</td>\n",
       "      <td>2084992.090</td>\n",
       "      <td>2097560.130</td>\n",
       "    </tr>\n",
       "    <tr>\n",
       "      <th>1</th>\n",
       "      <td>10903.000</td>\n",
       "      <td>1811768.380</td>\n",
       "      <td>1822256.730</td>\n",
       "    </tr>\n",
       "  </tbody>\n",
       "</table>\n",
       "</div>"
      ],
      "text/plain": [
       "       Quantity Ordered  Price Each       Total\n",
       "Month                                          \n",
       "12            28114.000 4588415.410 4613443.340\n",
       "10            22703.000 3715554.830 3736726.880\n",
       "4             20558.000 3367671.020 3390670.240\n",
       "11            19798.000 3180600.680 3199603.200\n",
       "5             18667.000 3135125.130 3152606.750\n",
       "3             17005.000 2791207.830 2807100.380\n",
       "7             16072.000 2632539.560 2647775.760\n",
       "6             15253.000 2562025.610 2577802.260\n",
       "8             13448.000 2230345.420 2244467.880\n",
       "2             13449.000 2188884.720 2202022.420\n",
       "9             13109.000 2084992.090 2097560.130\n",
       "1             10903.000 1811768.380 1822256.730"
      ]
     },
     "execution_count": 218,
     "metadata": {},
     "output_type": "execute_result"
    }
   ],
   "source": [
    "all_data['Month'] = all_data['Month'].astype('int32')\n",
    "all_data['Quantity Ordered'] = all_data['Quantity Ordered'].astype('float')\n",
    "all_data['Price Each'] = all_data['Price Each'].astype('float')\n",
    "# all_data['Quantity Ordered'] = pd.to_numeric(all_data['Quantity Ordered'], errors='coerce')\n",
    "# all_data['Price Each'] = pd.to_numeric(all_data['Price Each'], errors='coerce')\n",
    "all_data['Total'] = all_data['Price Each'] * all_data['Quantity Ordered']\n",
    "\n",
    "# pd.set_option('display.float_format', lambda x: '%.3f' % x)\n",
    "best_month = all_data.groupby(['Month']).sum()\n",
    "best_month.sort_values('Total', ascending=False)\n",
    "\n",
    "# Best_Selling_Month = 'December'\n",
    "# Total_Selling = 4613443.340"
   ]
  },
  {
   "cell_type": "code",
   "execution_count": 219,
   "metadata": {},
   "outputs": [
    {
     "data": {
      "image/png": "[encoded data removed]",
      "text/plain": [
       "<Figure size 432x288 with 1 Axes>"
      ]
     },
     "metadata": {
      "needs_background": "light"
     },
     "output_type": "display_data"
    }
   ],
   "source": [
    "import matplotlib.pyplot as plt\n",
    "\n",
    "plt.plot(best_month['Total'])\n",
    "plt.xticks(range(1, 13))\n",
    "plt.xlabel('Month')\n",
    "plt.ylabel('Total Sales')\n",
    "plt.show()"
   ]
  },
  {
   "cell_type": "code",
   "execution_count": 220,
   "metadata": {},
   "outputs": [
    {
     "data": {
      "image/png": "[encoded data removed]",
      "text/plain": [
       "<Figure size 432x288 with 1 Axes>"
      ]
     },
     "metadata": {
      "needs_background": "light"
     },
     "output_type": "display_data"
    }
   ],
   "source": [
    "plt.bar(range(1, 13), best_month['Total'])\n",
    "plt.xticks(range(1, 13))\n",
    "plt.xlabel('Month')\n",
    "plt.ylabel(\"Total Sales (USD)\")\n",
    "plt.show()"
   ]
  },
  {
   "cell_type": "markdown",
   "metadata": {},
   "source": [
    "##### Seems like December has the biggest sale and it makes sense given the holidays people are buying gifts for each other #####"
   ]
  },
  {
   "cell_type": "markdown",
   "metadata": {},
   "source": [
    "### Q2: What city had the highest sales? ###"
   ]
  },
  {
   "cell_type": "markdown",
   "metadata": {},
   "source": [
    "#### 1. Split the address column to extract city information first###"
   ]
  },
  {
   "cell_type": "code",
   "execution_count": 276,
   "metadata": {},
   "outputs": [],
   "source": [
    "# all_data['city'] = all_data['Purchase Address'].str.split(',', expand=True)[1]\n",
    "# all_data.head()\n",
    "\n",
    "# Alternative method to get city using apply():\n",
    "def get_city(address):\n",
    "    temp_address = address.split(',')\n",
    "    city = temp_address[1].strip()\n",
    "    state = temp_address[2].split()[0]\n",
    "    return \"{}, {}\".format(city, state)\n",
    "\n",
    "all_data['city'] = all_data['Purchase Address'].apply(lambda x: get_city(x))"
   ]
  },
  {
   "cell_type": "markdown",
   "metadata": {},
   "source": [
    "#### 2. Group by the city and find the city that had highest sales ####"
   ]
  },
  {
   "cell_type": "code",
   "execution_count": 273,
   "metadata": {},
   "outputs": [
    {
     "data": {
      "text/html": [
       "<div>\n",
       "<style scoped>\n",
       "    .dataframe tbody tr th:only-of-type {\n",
       "        vertical-align: middle;\n",
       "    }\n",
       "\n",
       "    .dataframe tbody tr th {\n",
       "        vertical-align: top;\n",
       "    }\n",
       "\n",
       "    .dataframe thead th {\n",
       "        text-align: right;\n",
       "    }\n",
       "</style>\n",
       "<table border=\"1\" class=\"dataframe\">\n",
       "  <thead>\n",
       "    <tr style=\"text-align: right;\">\n",
       "      <th></th>\n",
       "      <th>Quantity Ordered</th>\n",
       "      <th>Price Each</th>\n",
       "      <th>Month</th>\n",
       "      <th>Total</th>\n",
       "    </tr>\n",
       "    <tr>\n",
       "      <th>city</th>\n",
       "      <th></th>\n",
       "      <th></th>\n",
       "      <th></th>\n",
       "      <th></th>\n",
       "    </tr>\n",
       "  </thead>\n",
       "  <tbody>\n",
       "    <tr>\n",
       "      <th>Atlanta, GA</th>\n",
       "      <td>16602.000</td>\n",
       "      <td>2779908.200</td>\n",
       "      <td>104794</td>\n",
       "      <td>2795498.580</td>\n",
       "    </tr>\n",
       "    <tr>\n",
       "      <th>Austin, TX</th>\n",
       "      <td>11153.000</td>\n",
       "      <td>1809873.610</td>\n",
       "      <td>69829</td>\n",
       "      <td>1819581.750</td>\n",
       "    </tr>\n",
       "    <tr>\n",
       "      <th>Boston, MA</th>\n",
       "      <td>22528.000</td>\n",
       "      <td>3637409.770</td>\n",
       "      <td>141112</td>\n",
       "      <td>3661642.010</td>\n",
       "    </tr>\n",
       "    <tr>\n",
       "      <th>Dallas, TX</th>\n",
       "      <td>16730.000</td>\n",
       "      <td>2752627.820</td>\n",
       "      <td>104620</td>\n",
       "      <td>2767975.400</td>\n",
       "    </tr>\n",
       "    <tr>\n",
       "      <th>Los Angeles, CA</th>\n",
       "      <td>33289.000</td>\n",
       "      <td>5421435.230</td>\n",
       "      <td>208325</td>\n",
       "      <td>5452570.800</td>\n",
       "    </tr>\n",
       "    <tr>\n",
       "      <th>New York City, NY</th>\n",
       "      <td>27932.000</td>\n",
       "      <td>4635370.830</td>\n",
       "      <td>175741</td>\n",
       "      <td>4664317.430</td>\n",
       "    </tr>\n",
       "    <tr>\n",
       "      <th>Portland, ME</th>\n",
       "      <td>2750.000</td>\n",
       "      <td>447189.250</td>\n",
       "      <td>17144</td>\n",
       "      <td>449758.270</td>\n",
       "    </tr>\n",
       "    <tr>\n",
       "      <th>Portland, OR</th>\n",
       "      <td>11303.000</td>\n",
       "      <td>1860558.220</td>\n",
       "      <td>70621</td>\n",
       "      <td>1870732.340</td>\n",
       "    </tr>\n",
       "    <tr>\n",
       "      <th>San Francisco, CA</th>\n",
       "      <td>50239.000</td>\n",
       "      <td>8211461.740</td>\n",
       "      <td>315520</td>\n",
       "      <td>8262203.910</td>\n",
       "    </tr>\n",
       "    <tr>\n",
       "      <th>Seattle, WA</th>\n",
       "      <td>16553.000</td>\n",
       "      <td>2733296.010</td>\n",
       "      <td>104941</td>\n",
       "      <td>2747755.480</td>\n",
       "    </tr>\n",
       "  </tbody>\n",
       "</table>\n",
       "</div>"
      ],
      "text/plain": [
       "                   Quantity Ordered  Price Each   Month       Total\n",
       "city                                                               \n",
       "Atlanta, GA               16602.000 2779908.200  104794 2795498.580\n",
       "Austin, TX                11153.000 1809873.610   69829 1819581.750\n",
       "Boston, MA                22528.000 3637409.770  141112 3661642.010\n",
       "Dallas, TX                16730.000 2752627.820  104620 2767975.400\n",
       "Los Angeles, CA           33289.000 5421435.230  208325 5452570.800\n",
       "New York City, NY         27932.000 4635370.830  175741 4664317.430\n",
       "Portland, ME               2750.000  447189.250   17144  449758.270\n",
       "Portland, OR              11303.000 1860558.220   70621 1870732.340\n",
       "San Francisco, CA         50239.000 8211461.740  315520 8262203.910\n",
       "Seattle, WA               16553.000 2733296.010  104941 2747755.480"
      ]
     },
     "execution_count": 273,
     "metadata": {},
     "output_type": "execute_result"
    }
   ],
   "source": [
    "best_city = all_data.groupby(['city']).sum()\n",
    "best_city"
   ]
  },
  {
   "cell_type": "markdown",
   "metadata": {},
   "source": [
    "#### 3. Making graph of the city (3 different ways to result same result) ####"
   ]
  },
  {
   "cell_type": "code",
   "execution_count": 290,
   "metadata": {},
   "outputs": [
    {
     "data": {
      "image/png": "[encoded data removed]",
      "text/plain": [
       "<Figure size 432x288 with 1 Axes>"
      ]
     },
     "metadata": {
      "needs_background": "light"
     },
     "output_type": "display_data"
    }
   ],
   "source": [
    "\n",
    "# city = all_data['city'].unique() This code will give the cities in the wrong order as of sales\n",
    "\n",
    "city = [city for city, df in all_data.groupby(['city'])]\n",
    "\n",
    "plt.bar(city, best_city['Total'])\n",
    "plt.ylabel('Total Sales (USD)')\n",
    "plt.xticks(rotation=90)\n",
    "plt.show()"
   ]
  },
  {
   "cell_type": "code",
   "execution_count": 291,
   "metadata": {},
   "outputs": [
    {
     "data": {
      "text/plain": [
       "<matplotlib.axes._subplots.AxesSubplot at 0x16594ad68>"
      ]
     },
     "execution_count": 291,
     "metadata": {},
     "output_type": "execute_result"
    },
    {
     "data": {
      "image/png": "[encoded data removed]",
      "text/plain": [
       "<Figure size 432x288 with 1 Axes>"
      ]
     },
     "metadata": {
      "needs_background": "light"
     },
     "output_type": "display_data"
    }
   ],
   "source": [
    "best_city['Total'].plot.bar()"
   ]
  },
  {
   "cell_type": "code",
   "execution_count": 293,
   "metadata": {},
   "outputs": [
    {
     "data": {
      "image/png": "[encoded data removed]",
      "text/plain": [
       "<Figure size 432x288 with 1 Axes>"
      ]
     },
     "metadata": {
      "needs_background": "light"
     },
     "output_type": "display_data"
    }
   ],
   "source": [
    "test_city = all_data.city.unique()\n",
    "test_best_city = all_data.groupby(['city'], sort=False).sum()\n",
    "\n",
    "plt.bar(test_city, test_best_city['Total'])\n",
    "plt.xticks(rotation=90)\n",
    "plt.show()"
   ]
  },
  {
   "cell_type": "markdown",
   "metadata": {},
   "source": [
    "#### Q3: What time should we display advertisements to maximize the likelihood of purchases? ####"
   ]
  },
  {
   "cell_type": "code",
   "execution_count": 299,
   "metadata": {},
   "outputs": [
    {
     "data": {
      "text/html": [
       "<div>\n",
       "<style scoped>\n",
       "    .dataframe tbody tr th:only-of-type {\n",
       "        vertical-align: middle;\n",
       "    }\n",
       "\n",
       "    .dataframe tbody tr th {\n",
       "        vertical-align: top;\n",
       "    }\n",
       "\n",
       "    .dataframe thead th {\n",
       "        text-align: right;\n",
       "    }\n",
       "</style>\n",
       "<table border=\"1\" class=\"dataframe\">\n",
       "  <thead>\n",
       "    <tr style=\"text-align: right;\">\n",
       "      <th></th>\n",
       "      <th>Order ID</th>\n",
       "      <th>Product</th>\n",
       "      <th>Quantity Ordered</th>\n",
       "      <th>Price Each</th>\n",
       "      <th>Order Date</th>\n",
       "      <th>Purchase Address</th>\n",
       "      <th>Month</th>\n",
       "      <th>Total</th>\n",
       "      <th>city</th>\n",
       "    </tr>\n",
       "  </thead>\n",
       "  <tbody>\n",
       "    <tr>\n",
       "      <th>0</th>\n",
       "      <td>209921</td>\n",
       "      <td>USB-C Charging Cable</td>\n",
       "      <td>1.000</td>\n",
       "      <td>11.950</td>\n",
       "      <td>2019-06-23 19:34:00</td>\n",
       "      <td>950 Walnut St, Portland, ME 04101</td>\n",
       "      <td>6</td>\n",
       "      <td>11.950</td>\n",
       "      <td>Portland, ME</td>\n",
       "    </tr>\n",
       "    <tr>\n",
       "      <th>1</th>\n",
       "      <td>209922</td>\n",
       "      <td>Macbook Pro Laptop</td>\n",
       "      <td>1.000</td>\n",
       "      <td>1700.000</td>\n",
       "      <td>2019-06-30 10:05:00</td>\n",
       "      <td>80 4th St, San Francisco, CA 94016</td>\n",
       "      <td>6</td>\n",
       "      <td>1700.000</td>\n",
       "      <td>San Francisco, CA</td>\n",
       "    </tr>\n",
       "    <tr>\n",
       "      <th>2</th>\n",
       "      <td>209923</td>\n",
       "      <td>ThinkPad Laptop</td>\n",
       "      <td>1.000</td>\n",
       "      <td>999.990</td>\n",
       "      <td>2019-06-24 20:18:00</td>\n",
       "      <td>402 Jackson St, Los Angeles, CA 90001</td>\n",
       "      <td>6</td>\n",
       "      <td>999.990</td>\n",
       "      <td>Los Angeles, CA</td>\n",
       "    </tr>\n",
       "    <tr>\n",
       "      <th>3</th>\n",
       "      <td>209924</td>\n",
       "      <td>27in FHD Monitor</td>\n",
       "      <td>1.000</td>\n",
       "      <td>149.990</td>\n",
       "      <td>2019-06-05 10:21:00</td>\n",
       "      <td>560 10th St, Seattle, WA 98101</td>\n",
       "      <td>6</td>\n",
       "      <td>149.990</td>\n",
       "      <td>Seattle, WA</td>\n",
       "    </tr>\n",
       "    <tr>\n",
       "      <th>4</th>\n",
       "      <td>209925</td>\n",
       "      <td>Bose SoundSport Headphones</td>\n",
       "      <td>1.000</td>\n",
       "      <td>99.990</td>\n",
       "      <td>2019-06-25 18:58:00</td>\n",
       "      <td>545 2nd St, San Francisco, CA 94016</td>\n",
       "      <td>6</td>\n",
       "      <td>99.990</td>\n",
       "      <td>San Francisco, CA</td>\n",
       "    </tr>\n",
       "  </tbody>\n",
       "</table>\n",
       "</div>"
      ],
      "text/plain": [
       "  Order ID                     Product  Quantity Ordered  Price Each  \\\n",
       "0   209921        USB-C Charging Cable             1.000      11.950   \n",
       "1   209922          Macbook Pro Laptop             1.000    1700.000   \n",
       "2   209923             ThinkPad Laptop             1.000     999.990   \n",
       "3   209924            27in FHD Monitor             1.000     149.990   \n",
       "4   209925  Bose SoundSport Headphones             1.000      99.990   \n",
       "\n",
       "           Order Date                       Purchase Address  Month    Total  \\\n",
       "0 2019-06-23 19:34:00      950 Walnut St, Portland, ME 04101      6   11.950   \n",
       "1 2019-06-30 10:05:00     80 4th St, San Francisco, CA 94016      6 1700.000   \n",
       "2 2019-06-24 20:18:00  402 Jackson St, Los Angeles, CA 90001      6  999.990   \n",
       "3 2019-06-05 10:21:00         560 10th St, Seattle, WA 98101      6  149.990   \n",
       "4 2019-06-25 18:58:00    545 2nd St, San Francisco, CA 94016      6   99.990   \n",
       "\n",
       "                city  \n",
       "0       Portland, ME  \n",
       "1  San Francisco, CA  \n",
       "2    Los Angeles, CA  \n",
       "3        Seattle, WA  \n",
       "4  San Francisco, CA  "
      ]
     },
     "execution_count": 299,
     "metadata": {},
     "output_type": "execute_result"
    }
   ],
   "source": [
    "all_data['Order Date'] = pd.to_datetime(all_data['Order Date'])\n",
    "all_data.head()"
   ]
  },
  {
   "cell_type": "code",
   "execution_count": 302,
   "metadata": {},
   "outputs": [],
   "source": [
    "all_data['Hour'] = all_data['Order Date'].dt.hour\n",
    "all_data['Minute'] = all_data['Order Date'].dt.minute"
   ]
  },
  {
   "cell_type": "code",
   "execution_count": 303,
   "metadata": {},
   "outputs": [
    {
     "data": {
      "text/html": [
       "<div>\n",
       "<style scoped>\n",
       "    .dataframe tbody tr th:only-of-type {\n",
       "        vertical-align: middle;\n",
       "    }\n",
       "\n",
       "    .dataframe tbody tr th {\n",
       "        vertical-align: top;\n",
       "    }\n",
       "\n",
       "    .dataframe thead th {\n",
       "        text-align: right;\n",
       "    }\n",
       "</style>\n",
       "<table border=\"1\" class=\"dataframe\">\n",
       "  <thead>\n",
       "    <tr style=\"text-align: right;\">\n",
       "      <th></th>\n",
       "      <th>Order ID</th>\n",
       "      <th>Product</th>\n",
       "      <th>Quantity Ordered</th>\n",
       "      <th>Price Each</th>\n",
       "      <th>Order Date</th>\n",
       "      <th>Purchase Address</th>\n",
       "      <th>Month</th>\n",
       "      <th>Total</th>\n",
       "      <th>city</th>\n",
       "      <th>Hour</th>\n",
       "      <th>Minute</th>\n",
       "    </tr>\n",
       "  </thead>\n",
       "  <tbody>\n",
       "    <tr>\n",
       "      <th>0</th>\n",
       "      <td>209921</td>\n",
       "      <td>USB-C Charging Cable</td>\n",
       "      <td>1.000</td>\n",
       "      <td>11.950</td>\n",
       "      <td>2019-06-23 19:34:00</td>\n",
       "      <td>950 Walnut St, Portland, ME 04101</td>\n",
       "      <td>6</td>\n",
       "      <td>11.950</td>\n",
       "      <td>Portland, ME</td>\n",
       "      <td>19</td>\n",
       "      <td>34</td>\n",
       "    </tr>\n",
       "    <tr>\n",
       "      <th>1</th>\n",
       "      <td>209922</td>\n",
       "      <td>Macbook Pro Laptop</td>\n",
       "      <td>1.000</td>\n",
       "      <td>1700.000</td>\n",
       "      <td>2019-06-30 10:05:00</td>\n",
       "      <td>80 4th St, San Francisco, CA 94016</td>\n",
       "      <td>6</td>\n",
       "      <td>1700.000</td>\n",
       "      <td>San Francisco, CA</td>\n",
       "      <td>10</td>\n",
       "      <td>5</td>\n",
       "    </tr>\n",
       "    <tr>\n",
       "      <th>2</th>\n",
       "      <td>209923</td>\n",
       "      <td>ThinkPad Laptop</td>\n",
       "      <td>1.000</td>\n",
       "      <td>999.990</td>\n",
       "      <td>2019-06-24 20:18:00</td>\n",
       "      <td>402 Jackson St, Los Angeles, CA 90001</td>\n",
       "      <td>6</td>\n",
       "      <td>999.990</td>\n",
       "      <td>Los Angeles, CA</td>\n",
       "      <td>20</td>\n",
       "      <td>18</td>\n",
       "    </tr>\n",
       "    <tr>\n",
       "      <th>3</th>\n",
       "      <td>209924</td>\n",
       "      <td>27in FHD Monitor</td>\n",
       "      <td>1.000</td>\n",
       "      <td>149.990</td>\n",
       "      <td>2019-06-05 10:21:00</td>\n",
       "      <td>560 10th St, Seattle, WA 98101</td>\n",
       "      <td>6</td>\n",
       "      <td>149.990</td>\n",
       "      <td>Seattle, WA</td>\n",
       "      <td>10</td>\n",
       "      <td>21</td>\n",
       "    </tr>\n",
       "    <tr>\n",
       "      <th>4</th>\n",
       "      <td>209925</td>\n",
       "      <td>Bose SoundSport Headphones</td>\n",
       "      <td>1.000</td>\n",
       "      <td>99.990</td>\n",
       "      <td>2019-06-25 18:58:00</td>\n",
       "      <td>545 2nd St, San Francisco, CA 94016</td>\n",
       "      <td>6</td>\n",
       "      <td>99.990</td>\n",
       "      <td>San Francisco, CA</td>\n",
       "      <td>18</td>\n",
       "      <td>58</td>\n",
       "    </tr>\n",
       "  </tbody>\n",
       "</table>\n",
       "</div>"
      ],
      "text/plain": [
       "  Order ID                     Product  Quantity Ordered  Price Each  \\\n",
       "0   209921        USB-C Charging Cable             1.000      11.950   \n",
       "1   209922          Macbook Pro Laptop             1.000    1700.000   \n",
       "2   209923             ThinkPad Laptop             1.000     999.990   \n",
       "3   209924            27in FHD Monitor             1.000     149.990   \n",
       "4   209925  Bose SoundSport Headphones             1.000      99.990   \n",
       "\n",
       "           Order Date                       Purchase Address  Month    Total  \\\n",
       "0 2019-06-23 19:34:00      950 Walnut St, Portland, ME 04101      6   11.950   \n",
       "1 2019-06-30 10:05:00     80 4th St, San Francisco, CA 94016      6 1700.000   \n",
       "2 2019-06-24 20:18:00  402 Jackson St, Los Angeles, CA 90001      6  999.990   \n",
       "3 2019-06-05 10:21:00         560 10th St, Seattle, WA 98101      6  149.990   \n",
       "4 2019-06-25 18:58:00    545 2nd St, San Francisco, CA 94016      6   99.990   \n",
       "\n",
       "                city  Hour  Minute  \n",
       "0       Portland, ME    19      34  \n",
       "1  San Francisco, CA    10       5  \n",
       "2    Los Angeles, CA    20      18  \n",
       "3        Seattle, WA    10      21  \n",
       "4  San Francisco, CA    18      58  "
      ]
     },
     "execution_count": 303,
     "metadata": {},
     "output_type": "execute_result"
    }
   ],
   "source": [
    "all_data.head()"
   ]
  },
  {
   "cell_type": "code",
   "execution_count": 319,
   "metadata": {},
   "outputs": [
    {
     "data": {
      "text/plain": [
       "<matplotlib.axes._subplots.AxesSubplot at 0x16ffc7978>"
      ]
     },
     "execution_count": 319,
     "metadata": {},
     "output_type": "execute_result"
    },
    {
     "data": {
      "image/png": "[encoded data removed]",
      "text/plain": [
       "<Figure size 432x288 with 1 Axes>"
      ]
     },
     "metadata": {
      "needs_background": "light"
     },
     "output_type": "display_data"
    }
   ],
   "source": [
    "test = all_data.groupby(['Hour']).count()\n",
    "plt.xlabel('Hour')\n",
    "plt.ylabel('Number of Sales')\n",
    "test['Order ID'].plot(kind='line', grid=True, xticks=all_data['Hour'].unique())\n",
    "\n",
    "# Best to advertise around 12PM or 7PM"
   ]
  },
  {
   "cell_type": "markdown",
   "metadata": {},
   "source": [
    "### Q4: What products are most often sold together? ###"
   ]
  },
  {
   "cell_type": "code",
   "execution_count": 354,
   "metadata": {},
   "outputs": [],
   "source": [
    "all_data2 = all_data.copy()"
   ]
  },
  {
   "cell_type": "code",
   "execution_count": 355,
   "metadata": {},
   "outputs": [],
   "source": [
    "merged = pd.merge(left=all_data, right=all_data2, left_on='Order ID', right_on='Order ID')"
   ]
  },
  {
   "cell_type": "code",
   "execution_count": 356,
   "metadata": {},
   "outputs": [
    {
     "data": {
      "text/html": [
       "<div>\n",
       "<style scoped>\n",
       "    .dataframe tbody tr th:only-of-type {\n",
       "        vertical-align: middle;\n",
       "    }\n",
       "\n",
       "    .dataframe tbody tr th {\n",
       "        vertical-align: top;\n",
       "    }\n",
       "\n",
       "    .dataframe thead th {\n",
       "        text-align: right;\n",
       "    }\n",
       "</style>\n",
       "<table border=\"1\" class=\"dataframe\">\n",
       "  <thead>\n",
       "    <tr style=\"text-align: right;\">\n",
       "      <th></th>\n",
       "      <th>Order ID</th>\n",
       "      <th>Product_x</th>\n",
       "      <th>Quantity Ordered_x</th>\n",
       "      <th>Price Each_x</th>\n",
       "      <th>Order Date_x</th>\n",
       "      <th>Purchase Address_x</th>\n",
       "      <th>Month_x</th>\n",
       "      <th>Total_x</th>\n",
       "      <th>city_x</th>\n",
       "      <th>Hour_x</th>\n",
       "      <th>...</th>\n",
       "      <th>Product_y</th>\n",
       "      <th>Quantity Ordered_y</th>\n",
       "      <th>Price Each_y</th>\n",
       "      <th>Order Date_y</th>\n",
       "      <th>Purchase Address_y</th>\n",
       "      <th>Month_y</th>\n",
       "      <th>Total_y</th>\n",
       "      <th>city_y</th>\n",
       "      <th>Hour_y</th>\n",
       "      <th>Minute_y</th>\n",
       "    </tr>\n",
       "  </thead>\n",
       "  <tbody>\n",
       "    <tr>\n",
       "      <th>0</th>\n",
       "      <td>209921</td>\n",
       "      <td>USB-C Charging Cable</td>\n",
       "      <td>1.000</td>\n",
       "      <td>11.950</td>\n",
       "      <td>2019-06-23 19:34:00</td>\n",
       "      <td>950 Walnut St, Portland, ME 04101</td>\n",
       "      <td>6</td>\n",
       "      <td>11.950</td>\n",
       "      <td>Portland, ME</td>\n",
       "      <td>19</td>\n",
       "      <td>...</td>\n",
       "      <td>USB-C Charging Cable</td>\n",
       "      <td>1.000</td>\n",
       "      <td>11.950</td>\n",
       "      <td>2019-06-23 19:34:00</td>\n",
       "      <td>950 Walnut St, Portland, ME 04101</td>\n",
       "      <td>6</td>\n",
       "      <td>11.950</td>\n",
       "      <td>Portland, ME</td>\n",
       "      <td>19</td>\n",
       "      <td>34</td>\n",
       "    </tr>\n",
       "    <tr>\n",
       "      <th>1</th>\n",
       "      <td>209922</td>\n",
       "      <td>Macbook Pro Laptop</td>\n",
       "      <td>1.000</td>\n",
       "      <td>1700.000</td>\n",
       "      <td>2019-06-30 10:05:00</td>\n",
       "      <td>80 4th St, San Francisco, CA 94016</td>\n",
       "      <td>6</td>\n",
       "      <td>1700.000</td>\n",
       "      <td>San Francisco, CA</td>\n",
       "      <td>10</td>\n",
       "      <td>...</td>\n",
       "      <td>Macbook Pro Laptop</td>\n",
       "      <td>1.000</td>\n",
       "      <td>1700.000</td>\n",
       "      <td>2019-06-30 10:05:00</td>\n",
       "      <td>80 4th St, San Francisco, CA 94016</td>\n",
       "      <td>6</td>\n",
       "      <td>1700.000</td>\n",
       "      <td>San Francisco, CA</td>\n",
       "      <td>10</td>\n",
       "      <td>5</td>\n",
       "    </tr>\n",
       "    <tr>\n",
       "      <th>2</th>\n",
       "      <td>209923</td>\n",
       "      <td>ThinkPad Laptop</td>\n",
       "      <td>1.000</td>\n",
       "      <td>999.990</td>\n",
       "      <td>2019-06-24 20:18:00</td>\n",
       "      <td>402 Jackson St, Los Angeles, CA 90001</td>\n",
       "      <td>6</td>\n",
       "      <td>999.990</td>\n",
       "      <td>Los Angeles, CA</td>\n",
       "      <td>20</td>\n",
       "      <td>...</td>\n",
       "      <td>ThinkPad Laptop</td>\n",
       "      <td>1.000</td>\n",
       "      <td>999.990</td>\n",
       "      <td>2019-06-24 20:18:00</td>\n",
       "      <td>402 Jackson St, Los Angeles, CA 90001</td>\n",
       "      <td>6</td>\n",
       "      <td>999.990</td>\n",
       "      <td>Los Angeles, CA</td>\n",
       "      <td>20</td>\n",
       "      <td>18</td>\n",
       "    </tr>\n",
       "    <tr>\n",
       "      <th>3</th>\n",
       "      <td>209924</td>\n",
       "      <td>27in FHD Monitor</td>\n",
       "      <td>1.000</td>\n",
       "      <td>149.990</td>\n",
       "      <td>2019-06-05 10:21:00</td>\n",
       "      <td>560 10th St, Seattle, WA 98101</td>\n",
       "      <td>6</td>\n",
       "      <td>149.990</td>\n",
       "      <td>Seattle, WA</td>\n",
       "      <td>10</td>\n",
       "      <td>...</td>\n",
       "      <td>27in FHD Monitor</td>\n",
       "      <td>1.000</td>\n",
       "      <td>149.990</td>\n",
       "      <td>2019-06-05 10:21:00</td>\n",
       "      <td>560 10th St, Seattle, WA 98101</td>\n",
       "      <td>6</td>\n",
       "      <td>149.990</td>\n",
       "      <td>Seattle, WA</td>\n",
       "      <td>10</td>\n",
       "      <td>21</td>\n",
       "    </tr>\n",
       "    <tr>\n",
       "      <th>4</th>\n",
       "      <td>209925</td>\n",
       "      <td>Bose SoundSport Headphones</td>\n",
       "      <td>1.000</td>\n",
       "      <td>99.990</td>\n",
       "      <td>2019-06-25 18:58:00</td>\n",
       "      <td>545 2nd St, San Francisco, CA 94016</td>\n",
       "      <td>6</td>\n",
       "      <td>99.990</td>\n",
       "      <td>San Francisco, CA</td>\n",
       "      <td>18</td>\n",
       "      <td>...</td>\n",
       "      <td>Bose SoundSport Headphones</td>\n",
       "      <td>1.000</td>\n",
       "      <td>99.990</td>\n",
       "      <td>2019-06-25 18:58:00</td>\n",
       "      <td>545 2nd St, San Francisco, CA 94016</td>\n",
       "      <td>6</td>\n",
       "      <td>99.990</td>\n",
       "      <td>San Francisco, CA</td>\n",
       "      <td>18</td>\n",
       "      <td>58</td>\n",
       "    </tr>\n",
       "  </tbody>\n",
       "</table>\n",
       "<p>5 rows × 21 columns</p>\n",
       "</div>"
      ],
      "text/plain": [
       "  Order ID                   Product_x  Quantity Ordered_x  Price Each_x  \\\n",
       "0   209921        USB-C Charging Cable               1.000        11.950   \n",
       "1   209922          Macbook Pro Laptop               1.000      1700.000   \n",
       "2   209923             ThinkPad Laptop               1.000       999.990   \n",
       "3   209924            27in FHD Monitor               1.000       149.990   \n",
       "4   209925  Bose SoundSport Headphones               1.000        99.990   \n",
       "\n",
       "         Order Date_x                     Purchase Address_x  Month_x  \\\n",
       "0 2019-06-23 19:34:00      950 Walnut St, Portland, ME 04101        6   \n",
       "1 2019-06-30 10:05:00     80 4th St, San Francisco, CA 94016        6   \n",
       "2 2019-06-24 20:18:00  402 Jackson St, Los Angeles, CA 90001        6   \n",
       "3 2019-06-05 10:21:00         560 10th St, Seattle, WA 98101        6   \n",
       "4 2019-06-25 18:58:00    545 2nd St, San Francisco, CA 94016        6   \n",
       "\n",
       "   Total_x             city_x  Hour_x  ...                   Product_y  \\\n",
       "0   11.950       Portland, ME      19  ...        USB-C Charging Cable   \n",
       "1 1700.000  San Francisco, CA      10  ...          Macbook Pro Laptop   \n",
       "2  999.990    Los Angeles, CA      20  ...             ThinkPad Laptop   \n",
       "3  149.990        Seattle, WA      10  ...            27in FHD Monitor   \n",
       "4   99.990  San Francisco, CA      18  ...  Bose SoundSport Headphones   \n",
       "\n",
       "  Quantity Ordered_y  Price Each_y        Order Date_y  \\\n",
       "0              1.000        11.950 2019-06-23 19:34:00   \n",
       "1              1.000      1700.000 2019-06-30 10:05:00   \n",
       "2              1.000       999.990 2019-06-24 20:18:00   \n",
       "3              1.000       149.990 2019-06-05 10:21:00   \n",
       "4              1.000        99.990 2019-06-25 18:58:00   \n",
       "\n",
       "                      Purchase Address_y Month_y  Total_y             city_y  \\\n",
       "0      950 Walnut St, Portland, ME 04101       6   11.950       Portland, ME   \n",
       "1     80 4th St, San Francisco, CA 94016       6 1700.000  San Francisco, CA   \n",
       "2  402 Jackson St, Los Angeles, CA 90001       6  999.990    Los Angeles, CA   \n",
       "3         560 10th St, Seattle, WA 98101       6  149.990        Seattle, WA   \n",
       "4    545 2nd St, San Francisco, CA 94016       6   99.990  San Francisco, CA   \n",
       "\n",
       "  Hour_y  Minute_y  \n",
       "0     19        34  \n",
       "1     10         5  \n",
       "2     20        18  \n",
       "3     10        21  \n",
       "4     18        58  \n",
       "\n",
       "[5 rows x 21 columns]"
      ]
     },
     "execution_count": 356,
     "metadata": {},
     "output_type": "execute_result"
    }
   ],
   "source": [
    "merged.head()"
   ]
  },
  {
   "cell_type": "code",
   "execution_count": 422,
   "metadata": {},
   "outputs": [
    {
     "name": "stderr",
     "output_type": "stream",
     "text": [
      "/Users/chameleon_7/anaconda3/lib/python3.7/site-packages/pandas/core/frame.py:3940: SettingWithCopyWarning: \n",
      "A value is trying to be set on a copy of a slice from a DataFrame\n",
      "\n",
      "See the caveats in the documentation: http://pandas.pydata.org/pandas-docs/stable/indexing.html#indexing-view-versus-copy\n",
      "  errors=errors)\n"
     ]
    }
   ],
   "source": [
    "product = merged[['Order ID','Product_x', 'Product_y']]\n",
    "\n",
    "rows_to_drop = product[product['Product_x'] == product['Product_y']]\n",
    "product.drop(rows_to_drop.index, inplace=True)\n",
    "\n",
    "product = product.reset_index()\n",
    "product.drop('index', axis=1, inplace=True)"
   ]
  },
  {
   "cell_type": "code",
   "execution_count": 428,
   "metadata": {},
   "outputs": [
    {
     "data": {
      "text/html": [
       "<div>\n",
       "<style scoped>\n",
       "    .dataframe tbody tr th:only-of-type {\n",
       "        vertical-align: middle;\n",
       "    }\n",
       "\n",
       "    .dataframe tbody tr th {\n",
       "        vertical-align: top;\n",
       "    }\n",
       "\n",
       "    .dataframe thead th {\n",
       "        text-align: right;\n",
       "    }\n",
       "</style>\n",
       "<table border=\"1\" class=\"dataframe\">\n",
       "  <thead>\n",
       "    <tr style=\"text-align: right;\">\n",
       "      <th></th>\n",
       "      <th>Product_x</th>\n",
       "      <th>Product_y</th>\n",
       "      <th>Order ID</th>\n",
       "    </tr>\n",
       "  </thead>\n",
       "  <tbody>\n",
       "    <tr>\n",
       "      <th>312</th>\n",
       "      <td>iPhone</td>\n",
       "      <td>Lightning Charging Cable</td>\n",
       "      <td>1015</td>\n",
       "    </tr>\n",
       "    <tr>\n",
       "      <th>217</th>\n",
       "      <td>Lightning Charging Cable</td>\n",
       "      <td>iPhone</td>\n",
       "      <td>1015</td>\n",
       "    </tr>\n",
       "    <tr>\n",
       "      <th>260</th>\n",
       "      <td>USB-C Charging Cable</td>\n",
       "      <td>Google Phone</td>\n",
       "      <td>999</td>\n",
       "    </tr>\n",
       "    <tr>\n",
       "      <th>171</th>\n",
       "      <td>Google Phone</td>\n",
       "      <td>USB-C Charging Cable</td>\n",
       "      <td>999</td>\n",
       "    </tr>\n",
       "    <tr>\n",
       "      <th>317</th>\n",
       "      <td>iPhone</td>\n",
       "      <td>Wired Headphones</td>\n",
       "      <td>462</td>\n",
       "    </tr>\n",
       "  </tbody>\n",
       "</table>\n",
       "</div>"
      ],
      "text/plain": [
       "                    Product_x                 Product_y  Order ID\n",
       "312                    iPhone  Lightning Charging Cable      1015\n",
       "217  Lightning Charging Cable                    iPhone      1015\n",
       "260      USB-C Charging Cable              Google Phone       999\n",
       "171              Google Phone      USB-C Charging Cable       999\n",
       "317                    iPhone          Wired Headphones       462"
      ]
     },
     "execution_count": 428,
     "metadata": {},
     "output_type": "execute_result"
    }
   ],
   "source": [
    "test= product.groupby(['Product_x', 'Product_y']).count().reset_index()\n",
    "sorted = test.sort_values('Order ID', ascending=False)\n",
    "sorted['Order ID'].drop_duplicates(inplace=True)\n",
    "sorted.head()\n",
    "\n",
    "# iPhone and Lightning Charging Cable are bought most often at 1015 times "
   ]
  },
  {
   "cell_type": "code",
   "execution_count": 380,
   "metadata": {},
   "outputs": [],
   "source": [
    "all_data3=all_data.copy()"
   ]
  },
  {
   "cell_type": "code",
   "execution_count": 425,
   "metadata": {},
   "outputs": [
    {
     "data": {
      "text/html": [
       "<div>\n",
       "<style scoped>\n",
       "    .dataframe tbody tr th:only-of-type {\n",
       "        vertical-align: middle;\n",
       "    }\n",
       "\n",
       "    .dataframe tbody tr th {\n",
       "        vertical-align: top;\n",
       "    }\n",
       "\n",
       "    .dataframe thead th {\n",
       "        text-align: right;\n",
       "    }\n",
       "</style>\n",
       "<table border=\"1\" class=\"dataframe\">\n",
       "  <thead>\n",
       "    <tr style=\"text-align: right;\">\n",
       "      <th></th>\n",
       "      <th>Order ID</th>\n",
       "      <th>grouped</th>\n",
       "    </tr>\n",
       "  </thead>\n",
       "  <tbody>\n",
       "    <tr>\n",
       "      <th>17</th>\n",
       "      <td>209938</td>\n",
       "      <td>iPhone,Wired Headphones</td>\n",
       "    </tr>\n",
       "    <tr>\n",
       "      <th>29</th>\n",
       "      <td>209949</td>\n",
       "      <td>Google Phone,USB-C Charging Cable</td>\n",
       "    </tr>\n",
       "    <tr>\n",
       "      <th>41</th>\n",
       "      <td>209960</td>\n",
       "      <td>USB-C Charging Cable,AA Batteries (4-pack)</td>\n",
       "    </tr>\n",
       "    <tr>\n",
       "      <th>43</th>\n",
       "      <td>209961</td>\n",
       "      <td>iPhone,Lightning Charging Cable</td>\n",
       "    </tr>\n",
       "    <tr>\n",
       "      <th>147</th>\n",
       "      <td>210064</td>\n",
       "      <td>Lightning Charging Cable,27in FHD Monitor</td>\n",
       "    </tr>\n",
       "  </tbody>\n",
       "</table>\n",
       "</div>"
      ],
      "text/plain": [
       "    Order ID                                     grouped\n",
       "17    209938                     iPhone,Wired Headphones\n",
       "29    209949           Google Phone,USB-C Charging Cable\n",
       "41    209960  USB-C Charging Cable,AA Batteries (4-pack)\n",
       "43    209961             iPhone,Lightning Charging Cable\n",
       "147   210064   Lightning Charging Cable,27in FHD Monitor"
      ]
     },
     "execution_count": 425,
     "metadata": {},
     "output_type": "execute_result"
    }
   ],
   "source": [
    "test=all_data3[all_data3['Order ID'].duplicated(keep=False)]\n",
    "test['grouped'] = all_data3.groupby(['Order ID'])['Product'].transform(lambda x: ','.join(x))\n",
    "test=test[['Order ID', 'grouped']].drop_duplicates()\n",
    "test.head()"
   ]
  },
  {
   "cell_type": "code",
   "execution_count": 426,
   "metadata": {},
   "outputs": [
    {
     "name": "stdout",
     "output_type": "stream",
     "text": [
      "[(('iPhone', 'Lightning Charging Cable'), 1005), (('Google Phone', 'USB-C Charging Cable'), 987), (('iPhone', 'Wired Headphones'), 447), (('Google Phone', 'Wired Headphones'), 414), (('Vareebadd Phone', 'USB-C Charging Cable'), 361), (('iPhone', 'Apple Airpods Headphones'), 360), (('Google Phone', 'Bose SoundSport Headphones'), 220), (('USB-C Charging Cable', 'Wired Headphones'), 160), (('Vareebadd Phone', 'Wired Headphones'), 143), (('Lightning Charging Cable', 'Wired Headphones'), 92)]\n"
     ]
    }
   ],
   "source": [
    "from itertools import combinations\n",
    "from collections import Counter\n",
    "\n",
    "count = Counter()\n",
    "\n",
    "for row in test['grouped']:\n",
    "    row_list = row.split(',')\n",
    "    count.update(Counter(combinations(row_list, 2)))\n",
    "    \n",
    "print(count.most_common(10))"
   ]
  },
  {
   "cell_type": "markdown",
   "metadata": {},
   "source": [
    "### Q5: What product sold the most? Why do you think it did? ###"
   ]
  },
  {
   "cell_type": "code",
   "execution_count": 479,
   "metadata": {},
   "outputs": [
    {
     "data": {
      "text/plain": [
       "Text(0, 0.5, 'Average Price')"
      ]
     },
     "execution_count": 479,
     "metadata": {},
     "output_type": "execute_result"
    },
    {
     "data": {
      "image/png": "[encoded data removed]",
      "text/plain": [
       "<Figure size 432x288 with 2 Axes>"
      ]
     },
     "metadata": {
      "needs_background": "light"
     },
     "output_type": "display_data"
    }
   ],
   "source": [
    "product_count = all_data.groupby(['Product'])['Quantity Ordered'].sum().plot.bar()\n",
    "price = all_data.groupby(['Product']).mean()['Price Each'].plot(secondary_y=True, color='k', rot=90)\n",
    "product_count.set_ylabel('Quantity Sold')\n",
    "price.set_ylabel('Average Price')"
   ]
  },
  {
   "cell_type": "code",
   "execution_count": 1,
   "metadata": {},
   "outputs": [],
   "source": [
    "# Looks like AAA batteries are sold the most because the unit price is relatively low. \n",
    "# Also it looks like the unit price and amount of that item sold are inversely proportional.\n",
    "# This relationship holds true for most of the stuff except when it comes to Apple laptops\n",
    "# and that is probably because the students are buying it or tech companies are buying it. "
   ]
  },
  {
   "cell_type": "code",
   "execution_count": null,
   "metadata": {},
   "outputs": [],
   "source": []
  }
 ],
 "metadata": {
  "kernelspec": {
   "display_name": "Python 3",
   "language": "python",
   "name": "python3"
  },
  "language_info": {
   "codemirror_mode": {
    "name": "ipython",
    "version": 3
   },
   "file_extension": ".py",
   "mimetype": "text/x-python",
   "name": "python",
   "nbconvert_exporter": "python",
   "pygments_lexer": "ipython3",
   "version": "3.7.3"
  }
 },
 "nbformat": 4,
 "nbformat_minor": 2
}
